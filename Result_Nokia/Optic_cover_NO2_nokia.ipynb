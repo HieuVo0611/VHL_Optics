{
 "cells": [
  {
   "cell_type": "code",
   "execution_count": 1,
   "metadata": {},
   "outputs": [],
   "source": [
    "import cv2\n",
    "import os\n",
    "import joblib\n",
    "import numpy as np\n",
    "import pandas as pd\n",
    "import matplotlib.pyplot as plt\n",
    "from skimage.feature import local_binary_pattern, hog\n",
    "from sklearn.metrics import mean_squared_error, r2_score\n",
    "from sklearn.pipeline import Pipeline\n",
    "from sklearn.model_selection import GridSearchCV, train_test_split\n",
    "from sklearn.preprocessing import StandardScaler\n",
    "from sklearn.linear_model import LinearRegression\n",
    "from sklearn.ensemble import RandomForestRegressor\n",
    "from sklearn.svm import SVR"
   ]
  },
  {
   "cell_type": "code",
   "execution_count": 2,
   "metadata": {},
   "outputs": [
    {
     "data": {
      "text/html": [
       "<div>\n",
       "<style scoped>\n",
       "    .dataframe tbody tr th:only-of-type {\n",
       "        vertical-align: middle;\n",
       "    }\n",
       "\n",
       "    .dataframe tbody tr th {\n",
       "        vertical-align: top;\n",
       "    }\n",
       "\n",
       "    .dataframe thead th {\n",
       "        text-align: right;\n",
       "    }\n",
       "</style>\n",
       "<table border=\"1\" class=\"dataframe\">\n",
       "  <thead>\n",
       "    <tr style=\"text-align: right;\">\n",
       "      <th></th>\n",
       "      <th>STT</th>\n",
       "      <th>ID_img</th>\n",
       "      <th>ppm</th>\n",
       "      <th>note</th>\n",
       "    </tr>\n",
       "  </thead>\n",
       "  <tbody>\n",
       "    <tr>\n",
       "      <th>0</th>\n",
       "      <td>1</td>\n",
       "      <td>1CYM9_ngochanpham274@gmail.com_2024-12-12 10_4...</td>\n",
       "      <td>2.00</td>\n",
       "      <td>001_Nokia test_10.876824_106.6782506.jpg</td>\n",
       "    </tr>\n",
       "    <tr>\n",
       "      <th>1</th>\n",
       "      <td>2</td>\n",
       "      <td>1Hzwu_ngochanpham274@gmail.com_2024-12-12 10_2...</td>\n",
       "      <td>0.04</td>\n",
       "      <td>003_Nokia test_10.8768404_106.6782455.jpg</td>\n",
       "    </tr>\n",
       "    <tr>\n",
       "      <th>2</th>\n",
       "      <td>3</td>\n",
       "      <td>3xtSD_ngochanpham274@gmail.com_2024-12-12 10_4...</td>\n",
       "      <td>4.00</td>\n",
       "      <td>001_Nokia test_10.876824_106.6782506.jpg</td>\n",
       "    </tr>\n",
       "    <tr>\n",
       "      <th>3</th>\n",
       "      <td>4</td>\n",
       "      <td>4h0r3_ngochanpham274@gmail.com_2024-12-12 10_3...</td>\n",
       "      <td>0.05</td>\n",
       "      <td>003_Nokia test_10.8768404_106.6782455.jpg</td>\n",
       "    </tr>\n",
       "    <tr>\n",
       "      <th>4</th>\n",
       "      <td>5</td>\n",
       "      <td>4kKBz_ngochanpham274@gmail.com_2024-12-12 10_3...</td>\n",
       "      <td>0.25</td>\n",
       "      <td>003_Nokia test_10.8768404_106.6782455.jpg</td>\n",
       "    </tr>\n",
       "  </tbody>\n",
       "</table>\n",
       "</div>"
      ],
      "text/plain": [
       "   STT                                             ID_img   ppm  \\\n",
       "0    1  1CYM9_ngochanpham274@gmail.com_2024-12-12 10_4...  2.00   \n",
       "1    2  1Hzwu_ngochanpham274@gmail.com_2024-12-12 10_2...  0.04   \n",
       "2    3  3xtSD_ngochanpham274@gmail.com_2024-12-12 10_4...  4.00   \n",
       "3    4  4h0r3_ngochanpham274@gmail.com_2024-12-12 10_3...  0.05   \n",
       "4    5  4kKBz_ngochanpham274@gmail.com_2024-12-12 10_3...  0.25   \n",
       "\n",
       "                                        note  \n",
       "0   001_Nokia test_10.876824_106.6782506.jpg  \n",
       "1  003_Nokia test_10.8768404_106.6782455.jpg  \n",
       "2   001_Nokia test_10.876824_106.6782506.jpg  \n",
       "3  003_Nokia test_10.8768404_106.6782455.jpg  \n",
       "4  003_Nokia test_10.8768404_106.6782455.jpg  "
      ]
     },
     "execution_count": 2,
     "metadata": {},
     "output_type": "execute_result"
    }
   ],
   "source": [
    "df = pd.read_csv(\"./Metadata_NO2_nokia.csv\")\n",
    "df.head()"
   ]
  },
  {
   "cell_type": "code",
   "execution_count": 3,
   "metadata": {},
   "outputs": [],
   "source": [
    "# Set the image_id as the index in data_pd\n",
    "df.set_index('ID_img', inplace=True)"
   ]
  },
  {
   "cell_type": "code",
   "execution_count": 4,
   "metadata": {},
   "outputs": [],
   "source": [
    "# Đường dẫn tới thư mục chứa dữ liệu\n",
    "data_dir = './nokia_cover/NO2/'\n",
    "image_size = (256, 256)  # Kích thước ảnh (tuỳ chọn)\n",
    "\n",
    "# Đọc tất cả hình ảnh trong thư mục\n",
    "def load_images(data_dir, image_size):\n",
    "    images = []\n",
    "    labels = []\n",
    "    for img_name in os.listdir(data_dir):\n",
    "        img_path = os.path.join(data_dir, img_name)\n",
    "        if os.path.isfile(img_path):  # Kiểm tra chắc chắn đây là tệp\n",
    "            try:\n",
    "                image = cv2.imread(img_path)\n",
    "                if image is None:  # Kiểm tra xem tệp có phải là ảnh hợp lệ không\n",
    "                    print(f\"File {img_path} không phải là ảnh hợp lệ.\")\n",
    "                    continue\n",
    "                \n",
    "                image = cv2.resize(image, image_size)\n",
    "                \n",
    "                # Lấy nhãn từ DataFrame df_NH3\n",
    "                label = df.loc[img_name, 'ppm']\n",
    "                \n",
    "                images.append(image)\n",
    "                labels.append(label)\n",
    "            except Exception as e:\n",
    "                print(f\"Lỗi khi đọc ảnh {img_path}: {e}\")\n",
    "\n",
    "    return np.array(images), np.array(labels)\n",
    "\n",
    "# Load dataset\n",
    "images, labels = load_images(data_dir, image_size)\n",
    "\n",
    "# Chia dữ liệu thành tập huấn luyện và kiểm thử\n",
    "X_train, X_test, y_train, y_test = train_test_split(images, labels, test_size=0.4, random_state=42)"
   ]
  },
  {
   "cell_type": "code",
   "execution_count": 5,
   "metadata": {},
   "outputs": [],
   "source": [
    "# Chuyển đổi không gian màu RGB, HSV, L*a*b*\n",
    "def extract_color_features(image):\n",
    "    rgb_mean = np.mean(image, axis=(0,1))  # Tính trung bình theo kênh màu RGB\n",
    "    hsv_image = cv2.cvtColor(image, cv2.COLOR_BGR2HSV)\n",
    "    hsv_mean = np.mean(hsv_image, axis=(0,1))  # Trung bình trong không gian HSV\n",
    "    lab_image = cv2.cvtColor(image, cv2.COLOR_BGR2LAB)\n",
    "    lab_mean = np.mean(lab_image, axis=(0,1))  # Trung bình trong không gian L*a*b*\n",
    "    \n",
    "    return np.concatenate([rgb_mean, hsv_mean, lab_mean])\n",
    "\n",
    "# Áp dụng trích xuất đặc trưng màu cho tất cả ảnh\n",
    "X_train_features = np.array([extract_color_features(img) for img in X_train])\n",
    "X_test_features = np.array([extract_color_features(img) for img in X_test])"
   ]
  },
  {
   "cell_type": "code",
   "execution_count": 6,
   "metadata": {},
   "outputs": [],
   "source": [
    "# Trích xuất LBP và HOG\n",
    "def extract_texture_features(image):\n",
    "    gray_image = cv2.cvtColor(image, cv2.COLOR_BGR2GRAY)\n",
    "    \n",
    "    # LBP\n",
    "    lbp = local_binary_pattern(gray_image, P=8, R=1, method='uniform')\n",
    "    lbp_hist, _ = np.histogram(lbp, bins=np.arange(0, 11), range=(0, 10), density=True)\n",
    "    \n",
    "    # HOG\n",
    "    hog_features, _ = hog(gray_image, orientations=9, pixels_per_cell=(8, 8),\n",
    "                          cells_per_block=(2, 2), visualize=True)\n",
    "    \n",
    "    return np.concatenate([lbp_hist, hog_features])\n",
    "\n",
    "# Áp dụng trích xuất đặc trưng kết cấu\n",
    "X_train_texture = np.array([extract_texture_features(img) for img in X_train])\n",
    "X_test_texture = np.array([extract_texture_features(img) for img in X_test])"
   ]
  },
  {
   "cell_type": "code",
   "execution_count": 7,
   "metadata": {},
   "outputs": [],
   "source": [
    "# Kết hợp đặc trưng màu sắc và kết cấu\n",
    "X_train_combined = np.concatenate([X_train_features, X_train_texture], axis=1)\n",
    "X_test_combined = np.concatenate([X_test_features, X_test_texture], axis=1)"
   ]
  },
  {
   "cell_type": "code",
   "execution_count": 8,
   "metadata": {},
   "outputs": [
    {
     "name": "stdout",
     "output_type": "stream",
     "text": [
      "(50, 34615)\n",
      "(34, 34615)\n"
     ]
    }
   ],
   "source": [
    "print(X_train_combined.shape)\n",
    "print(X_test_combined.shape)"
   ]
  },
  {
   "cell_type": "code",
   "execution_count": 9,
   "metadata": {},
   "outputs": [],
   "source": [
    "# Linear Regression (cho bài toán hồi quy)\n",
    "pipeline_lr = Pipeline([\n",
    "    ('scaler', StandardScaler()),  # Chuẩn hóa dữ liệu\n",
    "    ('lr', LinearRegression())\n",
    "])\n",
    "\n",
    "param_grid_lr = {\n",
    "    'lr__fit_intercept': [True, False],\n",
    "}"
   ]
  },
  {
   "cell_type": "code",
   "execution_count": 10,
   "metadata": {},
   "outputs": [],
   "source": [
    "# SVM (Support Vector Regressor) cho bài toán hồi quy\n",
    "pipeline_svr = Pipeline([\n",
    "    ('scaler', StandardScaler()),  # Chuẩn hóa dữ liệu\n",
    "    ('svr', SVR())\n",
    "])\n",
    "\n",
    "param_grid_svr = {\n",
    "    'svr__kernel': ['linear', 'rbf'],\n",
    "    'svr__C': [0.1, 1, 10],\n",
    "    'svr__gamma': ['scale', 'auto']\n",
    "}"
   ]
  },
  {
   "cell_type": "code",
   "execution_count": 11,
   "metadata": {},
   "outputs": [],
   "source": [
    "# Random Forest Regressor (cho bài toán hồi quy)\n",
    "pipeline_rf = Pipeline([\n",
    "    ('scaler', StandardScaler()),  # Chuẩn hóa dữ liệu\n",
    "    ('rf', RandomForestRegressor())\n",
    "])\n",
    "\n",
    "param_grid_rf = {\n",
    "    'rf__n_estimators': [50, 100],\n",
    "    'rf__max_depth': [10, 20],\n",
    "    'rf__min_samples_split': [5, 10]\n",
    "}"
   ]
  },
  {
   "cell_type": "code",
   "execution_count": 12,
   "metadata": {},
   "outputs": [
    {
     "name": "stdout",
     "output_type": "stream",
     "text": [
      "Training Linear Regression...\n",
      "Training SVR...\n",
      "Training Random Forest Regressor...\n",
      "Best parameters for Linear Regression: {'lr__fit_intercept': True}\n",
      "Best parameters for SVR: {'svr__C': 0.1, 'svr__gamma': 'scale', 'svr__kernel': 'linear'}\n",
      "Best parameters for Random Forest Regressor: {'rf__max_depth': 10, 'rf__min_samples_split': 5, 'rf__n_estimators': 50}\n"
     ]
    }
   ],
   "source": [
    "# GridSearchCV cho mỗi model\n",
    "grid_search_lr = GridSearchCV(pipeline_lr, param_grid_lr, cv=5, scoring='neg_mean_squared_error')\n",
    "grid_search_svr = GridSearchCV(pipeline_svr, param_grid_svr, cv=5, scoring='neg_mean_squared_error')\n",
    "grid_search_rf = GridSearchCV(pipeline_rf, param_grid_rf, cv=5, scoring='neg_mean_squared_error')\n",
    "\n",
    "# Huấn luyện từng mô hình\n",
    "print(\"Training Linear Regression...\")\n",
    "grid_search_lr.fit(X_train_combined, y_train)\n",
    "\n",
    "print(\"Training SVR...\")\n",
    "grid_search_svr.fit(X_train_combined, y_train)\n",
    "\n",
    "print(\"Training Random Forest Regressor...\")\n",
    "grid_search_rf.fit(X_train_combined, y_train)\n",
    "\n",
    "# In ra kết quả tốt nhất cho mỗi mô hình\n",
    "print(\"Best parameters for Linear Regression:\", grid_search_lr.best_params_)\n",
    "print(\"Best parameters for SVR:\", grid_search_svr.best_params_)\n",
    "print(\"Best parameters for Random Forest Regressor:\", grid_search_rf.best_params_)"
   ]
  },
  {
   "cell_type": "code",
   "execution_count": 13,
   "metadata": {},
   "outputs": [
    {
     "data": {
      "text/plain": [
       "['best_random_forest_params.pkl']"
      ]
     },
     "execution_count": 13,
     "metadata": {},
     "output_type": "execute_result"
    }
   ],
   "source": [
    "# Lưu mô hình và trọng số tốt nhất của Linear Regression\n",
    "joblib.dump(grid_search_lr.best_estimator_, 'best_linear_regression_model.pkl')\n",
    "joblib.dump(grid_search_lr.best_params_, 'best_linear_regression_params.pkl')\n",
    "\n",
    "# Lưu mô hình và trọng số tốt nhất của SVR\n",
    "joblib.dump(grid_search_svr.best_estimator_, 'best_svr_model.pkl')\n",
    "joblib.dump(grid_search_svr.best_params_, 'best_svr_params.pkl')\n",
    "\n",
    "# Lưu mô hình và trọng số tốt nhất của Random Forest Regressor\n",
    "joblib.dump(grid_search_rf.best_estimator_, 'best_random_forest_model.pkl')\n",
    "joblib.dump(grid_search_rf.best_params_, 'best_random_forest_params.pkl')"
   ]
  },
  {
   "cell_type": "code",
   "execution_count": 14,
   "metadata": {},
   "outputs": [
    {
     "name": "stdout",
     "output_type": "stream",
     "text": [
      "Linear Regression MSE: 2.5365676923362948, LR R2: 0.686765340825738\n",
      "\n",
      "SVR MSE: 2.6224534884346697, SVR R2: 0.6761595099030843\n",
      "\n",
      "Random Forest Regressor MSE: 2.6803868746996637, RF R2: 0.6690054550137341\n",
      "\n"
     ]
    }
   ],
   "source": [
    "# Đánh giá mô hình trên tập kiểm tra\n",
    "y_pred_lr = grid_search_lr.predict(X_test_combined)\n",
    "y_pred_svr = grid_search_svr.predict(X_test_combined)\n",
    "y_pred_rf = grid_search_rf.predict(X_test_combined)\n",
    "\n",
    "\n",
    "# Linear Regression, SVR, Random Forest Regressor (Mean Squared Error)\n",
    "mse_lr = mean_squared_error(y_test, y_pred_lr)\n",
    "mse_svr = mean_squared_error(y_test, y_pred_svr)\n",
    "mse_rf = mean_squared_error(y_test, y_pred_rf)\n",
    "\n",
    "r2_lr = r2_score(y_test, y_pred_lr)\n",
    "r2_svr = r2_score(y_test, y_pred_svr)\n",
    "r2_rf = r2_score(y_test, y_pred_rf)\n",
    "\n",
    "print(f\"Linear Regression MSE: {mse_lr}, LR R2: {r2_lr}\\n\")\n",
    "print(f\"SVR MSE: {mse_svr}, SVR R2: {r2_svr}\\n\")\n",
    "print(f\"Random Forest Regressor MSE: {mse_rf}, RF R2: {r2_rf}\\n\")"
   ]
  },
  {
   "cell_type": "code",
   "execution_count": 15,
   "metadata": {},
   "outputs": [
    {
     "data": {
      "image/png": "[encoded data removed]",
      "text/plain": [
       "<Figure size 1400x600 with 2 Axes>"
      ]
     },
     "metadata": {},
     "output_type": "display_data"
    }
   ],
   "source": [
    "# Dữ liệu MSE và R^2\n",
    "models = ['Linear Regression','SVR', 'Random Forest Regressor']\n",
    "mse_values = [mse_lr, mse_svr, mse_rf]\n",
    "r2_values = [r2_lr, r2_svr, r2_rf]\n",
    "\n",
    "# Tạo biểu đồ MSE\n",
    "plt.figure(figsize=(14, 6))\n",
    "\n",
    "# MSE\n",
    "plt.subplot(1, 2, 1)\n",
    "plt.bar(models, mse_values, color=['blue', 'green', 'red'])\n",
    "plt.title('Mean Squared Error (MSE) of Models')\n",
    "plt.ylabel('MSE')\n",
    "plt.xticks(rotation=15)\n",
    "for i, v in enumerate(mse_values):\n",
    "    plt.text(i, v + 0.01, f\"{v:.4f}\", ha='center', fontsize=12)\n",
    "\n",
    "# R^2\n",
    "plt.subplot(1, 2, 2)\n",
    "plt.bar(models, r2_values, color=['blue', 'green', 'red'])\n",
    "plt.title('R^2 of Models')\n",
    "plt.ylabel('R^2')\n",
    "plt.xticks(rotation=15)\n",
    "for i, v in enumerate(r2_values):\n",
    "    plt.text(i, v + 0.01, f\"{v:.4f}\", ha='center', fontsize=12)\n",
    "\n",
    "# Hiển thị biểu đồ\n",
    "plt.tight_layout()\n",
    "plt.show()"
   ]
  }
 ],
 "metadata": {
  "kernelspec": {
   "display_name": "Python 3",
   "language": "python",
   "name": "python3"
  },
  "language_info": {
   "codemirror_mode": {
    "name": "ipython",
    "version": 3
   },
   "file_extension": ".py",
   "mimetype": "text/x-python",
   "name": "python",
   "nbconvert_exporter": "python",
   "pygments_lexer": "ipython3",
   "version": "3.11.6"
  }
 },
 "nbformat": 4,
 "nbformat_minor": 2
}
