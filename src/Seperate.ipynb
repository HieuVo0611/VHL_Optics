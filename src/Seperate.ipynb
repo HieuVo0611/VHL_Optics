{
 "cells": [
  {
   "cell_type": "markdown",
   "metadata": {},
   "source": [
    "# Classification of phone types"
   ]
  },
  {
   "cell_type": "code",
   "execution_count": null,
   "metadata": {},
   "outputs": [
    {
     "name": "stdout",
     "output_type": "stream",
     "text": [
      "Đã phân loại file thành công!\n"
     ]
    }
   ],
   "source": [
    "import os\n",
    "import shutil\n",
    "\n",
    "# Path to the folder containing the files\n",
    "source_folder = './data'\n",
    "nokia_folder = './data/nokia/temp/'\n",
    "samsung_folder = './data/samsung/temp/'\n",
    "xiaomi_folder = './data/xiaomi/temp/'\n",
    "others_folder = './other/'\n",
    "\n",
    "# Create folders if they don't exist\n",
    "os.makedirs(nokia_folder, exist_ok=True)\n",
    "os.makedirs(samsung_folder, exist_ok=True)\n",
    "os.makedirs(xiaomi_folder, exist_ok=True)\n",
    "os.makedirs(others_folder, exist_ok=True)\n",
    "\n",
    "# Loop through all files in the source folder\n",
    "for file_name in os.listdir(source_folder):\n",
    "    # Full path to the file\n",
    "    file_path = os.path.join(source_folder, file_name)\n",
    "    \n",
    "    # Only process if it is a file\n",
    "    if os.path.isfile(file_path):\n",
    "        # Classify based on the file name\n",
    "        if \"nokia\" in file_name.lower():\n",
    "            shutil.move(file_path, os.path.join(nokia_folder, file_name))\n",
    "        elif \"samsung\" in file_name.lower():\n",
    "            shutil.move(file_path, os.path.join(samsung_folder, file_name))\n",
    "        elif \"xiaomi\" in file_name.lower():\n",
    "            shutil.move(file_path, os.path.join(xiaomi_folder, file_name))\n",
    "        else:\n",
    "            shutil.move(file_path, os.path.join(others_folder, file_name))\n",
    "\n",
    "print(\"Files have been classified successfully!\")"
   ]
  },
  {
   "cell_type": "markdown",
   "metadata": {},
   "source": [
    "# Classification of substances"
   ]
  },
  {
   "cell_type": "code",
   "execution_count": null,
   "metadata": {},
   "outputs": [
    {
     "name": "stdout",
     "output_type": "stream",
     "text": [
      "Hoàn tất phân loại file.\n"
     ]
    }
   ],
   "source": [
    "import os\n",
    "import shutil\n",
    "\n",
    "# Change the path to your folder\n",
    "# folder_path = \"./data/nokia/temp\"\n",
    "# folder_path = \"./data/samsung/temp\"\n",
    "folder_path = \"./data/xiaomi/temp\"\n",
    "\n",
    "nh3_folder = os.path.join(folder_path, \"NH3\")\n",
    "no2_folder = os.path.join(folder_path, \"NO2\")\n",
    "other_folder = os.path.join(folder_path, \"Other\")\n",
    "\n",
    "# Create the folders if they don't exist\n",
    "os.makedirs(nh3_folder, exist_ok=True)\n",
    "os.makedirs(no2_folder, exist_ok=True)\n",
    "os.makedirs(other_folder, exist_ok=True)\n",
    "\n",
    "# Loop through the files in the folder\n",
    "for filename in os.listdir(folder_path):\n",
    "    file_path = os.path.join(folder_path, filename)\n",
    "\n",
    "    # Check if it's a file\n",
    "    if os.path.isfile(file_path):\n",
    "        if \"NH3\" in filename:\n",
    "            shutil.move(file_path, nh3_folder)\n",
    "        elif \"No2\" in filename:\n",
    "            shutil.move(file_path, no2_folder)\n",
    "        elif \"NO2\" in filename:\n",
    "            shutil.move(file_path, no2_folder)\n",
    "        else:\n",
    "            shutil.move(file_path, other_folder)\n",
    "\n",
    "print(\"File classification completed.\")"
   ]
  }
 ],
 "metadata": {
  "kernelspec": {
   "display_name": "Python 3",
   "language": "python",
   "name": "python3"
  },
  "language_info": {
   "codemirror_mode": {
    "name": "ipython",
    "version": 3
   },
   "file_extension": ".py",
   "mimetype": "text/x-python",
   "name": "python",
   "nbconvert_exporter": "python",
   "pygments_lexer": "ipython3",
   "version": "3.11.0"
  }
 },
 "nbformat": 4,
 "nbformat_minor": 2
}
