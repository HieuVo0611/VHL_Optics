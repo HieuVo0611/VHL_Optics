{
 "cells": [
  {
   "cell_type": "markdown",
   "metadata": {},
   "source": [
    "# NO2"
   ]
  },
  {
   "cell_type": "code",
   "execution_count": null,
   "metadata": {},
   "outputs": [
    {
     "name": "stdout",
     "output_type": "stream",
     "text": [
      "Đã lưu file CSV tại: ./xiaomi/Metadata_NO2_xiaomi.csv\n"
     ]
    }
   ],
   "source": [
    "import os\n",
    "import pandas as pd\n",
    "\n",
    "def process_folder_to_csv(folder_path, output_csv_path):\n",
    "    data = []\n",
    "    for idx, file_name in enumerate(os.listdir(folder_path)):\n",
    "        # Skip subdirectories (only process files)\n",
    "        if os.path.isfile(os.path.join(folder_path, file_name)):\n",
    "            # Extract information from the file name\n",
    "            if (\"No2-_\" in file_name or \"NO2_\" in file_name) and \"ppm\" in file_name:\n",
    "                stt = idx + 1\n",
    "                id_img = file_name\n",
    "                try:\n",
    "                    # Determine the start position of ppm based on the first appearing keyword\n",
    "                    if \"No2-_\" in file_name:\n",
    "                        ppm_start = file_name.find(\"No2-_\") + len(\"No2-_\")\n",
    "                    else:\n",
    "                        ppm_start = file_name.find(\"NO2_\") + len(\"NO2_\")\n",
    "                    \n",
    "                    ppm_end = file_name.find(\"ppm\")\n",
    "                    ppm = file_name[ppm_start:ppm_end].strip()\n",
    "                    ppm = ppm.replace(\",\", \".\")\n",
    "                    \n",
    "                    # Get the note value (after \"ppm_\")\n",
    "                    note_start = file_name.find(\"ppm_\") + len(\"ppm_\")\n",
    "                    note = file_name[note_start:].strip()\n",
    "                except Exception as e:\n",
    "                    ppm, note = \"N/A\", \"N/A\"  # Case where the file name is invalid\n",
    "                \n",
    "                data.append({\"STT\": stt, \"ID_img\": id_img, \"ppm\": ppm, \"note\": note})\n",
    "    \n",
    "    # Create DataFrame and save it to a CSV file\n",
    "    df = pd.DataFrame(data)\n",
    "    df.to_csv(output_csv_path, index=False)\n",
    "    print(f\"CSV file saved at: {output_csv_path}\")\n",
    "\n",
    "# Folder path and output CSV file path\n",
    "folder_path = \"./data/xiaomi/temp/NO2/\"  # \"./data/nokia/temp/NO2/\" || \"./data/samsung/temp/NO2/\" || \n",
    "output_csv_path = \"./data/xiaomi/Metadata_NO2_xiaomi.csv\" # \"./data/nokia/Metadata_NO2_nokia.csv\" || \"./data/samsung/Metadata_NO2_samsung.csv\"\n",
    "\n",
    "# Call the function to process\n",
    "process_folder_to_csv(folder_path, output_csv_path)"
   ]
  },
  {
   "cell_type": "markdown",
   "metadata": {},
   "source": [
    "# NH3"
   ]
  },
  {
   "cell_type": "code",
   "execution_count": null,
   "metadata": {},
   "outputs": [
    {
     "name": "stdout",
     "output_type": "stream",
     "text": [
      "Đã lưu file CSV tại: ./samsung/Metadata_NH3_samsung.csv\n"
     ]
    }
   ],
   "source": [
    "import os\n",
    "import pandas as pd\n",
    "\n",
    "def process_folder_to_csv(folder_path, output_csv_path):\n",
    "    data = []\n",
    "    for idx, file_name in enumerate(os.listdir(folder_path)):\n",
    "        # Skip subdirectories (only process files)\n",
    "        if os.path.isfile(os.path.join(folder_path, file_name)):\n",
    "            # Extract information from the file name\n",
    "            if (\"NH3-_\" in file_name or \"NH3_\" in file_name) and \"ppm\" in file_name:\n",
    "                stt = idx + 1\n",
    "                id_img = file_name\n",
    "                try:\n",
    "                    # Determine the start position of ppm based on the first appearing keyword\n",
    "                    if \"NH3-_\" in file_name:\n",
    "                        ppm_start = file_name.find(\"NH3-_\") + len(\"NH3-_\")\n",
    "                    else:\n",
    "                        ppm_start = file_name.find(\"NH3_\") + len(\"NH3_\")\n",
    "                    \n",
    "                    ppm_end = file_name.find(\"ppm\")\n",
    "                    ppm = file_name[ppm_start:ppm_end].strip()\n",
    "                    ppm = ppm.replace(\",\", \".\")\n",
    "                    \n",
    "                    # Get the note value (after \"ppm_\")\n",
    "                    note_start = file_name.find(\"ppm_\") + len(\"ppm_\")\n",
    "                    note = file_name[note_start:].strip()\n",
    "                except Exception as e:\n",
    "                    ppm, note = \"N/A\", \"N/A\"  # Case where the file name is invalid\n",
    "                \n",
    "                data.append({\"STT\": stt, \"ID_img\": id_img, \"ppm\": ppm, \"note\": note})\n",
    "    \n",
    "    # Create DataFrame and save it to a CSV file\n",
    "    df = pd.DataFrame(data)\n",
    "    df.to_csv(output_csv_path, index=False)\n",
    "    print(f\"CSV file saved at: {output_csv_path}\")\n",
    "\n",
    "# Folder path and output CSV file path\n",
    "folder_path = \"./data/samsung/temp/NH3/\"  # \"./data/nokia/temp/NH3/\" || \"./data/samsung/temp/NH2/\" || \n",
    "output_csv_path = \"./data/samsung/Metadata_NH3_samsung.csv\" # \"./data/nokia/Metadata_NH3_nokia.csv\" || \"./data/samsung/Metadata_NH3_samsung.csv\"\n",
    "\n",
    "# Call the function to process\n",
    "process_folder_to_csv(folder_path, output_csv_path)"
   ]
  }
 ],
 "metadata": {
  "kernelspec": {
   "display_name": "Python 3",
   "language": "python",
   "name": "python3"
  },
  "language_info": {
   "codemirror_mode": {
    "name": "ipython",
    "version": 3
   },
   "file_extension": ".py",
   "mimetype": "text/x-python",
   "name": "python",
   "nbconvert_exporter": "python",
   "pygments_lexer": "ipython3",
   "version": "3.11.0"
  }
 },
 "nbformat": 4,
 "nbformat_minor": 2
}
