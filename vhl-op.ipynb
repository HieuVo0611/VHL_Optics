{
 "cells": [
  {
   "cell_type": "code",
   "execution_count": 9,
   "metadata": {
    "_cell_guid": "b1076dfc-b9ad-4769-8c92-a6c4dae69d19",
    "_uuid": "8f2839f25d086af736a60e9eeb907d3b93b6e0e5",
    "execution": {
     "iopub.execute_input": "2024-10-22T01:41:11.637797Z",
     "iopub.status.busy": "2024-10-22T01:41:11.637335Z",
     "iopub.status.idle": "2024-10-22T01:41:14.674372Z",
     "shell.execute_reply": "2024-10-22T01:41:14.673147Z",
     "shell.execute_reply.started": "2024-10-22T01:41:11.637750Z"
    },
    "trusted": true
   },
   "outputs": [],
   "source": [
    "import cv2\n",
    "import os\n",
    "import joblib\n",
    "import numpy as np\n",
    "import pandas as pd\n",
    "import matplotlib.pyplot as plt\n",
    "from skimage.feature import local_binary_pattern, hog\n",
    "from sklearn.metrics import mean_squared_error, r2_score\n",
    "from sklearn.pipeline import Pipeline\n",
    "from sklearn.model_selection import GridSearchCV, train_test_split\n",
    "from sklearn.preprocessing import StandardScaler\n",
    "from sklearn.linear_model import LinearRegression\n",
    "from sklearn.ensemble import RandomForestRegressor\n",
    "from sklearn.svm import SVR\n"
   ]
  },
  {
   "cell_type": "markdown",
   "metadata": {},
   "source": [
    "# **Xây dựng dữ liệu huấn luyện**"
   ]
  },
  {
   "cell_type": "code",
   "execution_count": null,
   "metadata": {
    "execution": {
     "iopub.execute_input": "2024-10-22T01:41:14.677320Z",
     "iopub.status.busy": "2024-10-22T01:41:14.676770Z",
     "iopub.status.idle": "2024-10-22T01:41:14.719532Z",
     "shell.execute_reply": "2024-10-22T01:41:14.718415Z",
     "shell.execute_reply.started": "2024-10-22T01:41:14.677279Z"
    },
    "trusted": true
   },
   "outputs": [],
   "source": [
    "df_doulbe = pd.read_csv(\"./Result/Metadata_Optics_doulbe.csv\")\n",
    "df_doulbe.head()"
   ]
  },
  {
   "cell_type": "code",
   "execution_count": null,
   "metadata": {
    "execution": {
     "iopub.execute_input": "2024-10-22T01:41:14.721317Z",
     "iopub.status.busy": "2024-10-22T01:41:14.720922Z",
     "iopub.status.idle": "2024-10-22T01:41:14.755202Z",
     "shell.execute_reply": "2024-10-22T01:41:14.753934Z",
     "shell.execute_reply.started": "2024-10-22T01:41:14.721276Z"
    },
    "trusted": true
   },
   "outputs": [],
   "source": [
    "df_ppm = pd.read_csv(\"./Result/Metadata_Optics_ppm.csv\")\n",
    "df_ppm.head()"
   ]
  },
  {
   "cell_type": "code",
   "execution_count": 12,
   "metadata": {
    "execution": {
     "iopub.execute_input": "2024-10-22T01:41:14.759334Z",
     "iopub.status.busy": "2024-10-22T01:41:14.758932Z",
     "iopub.status.idle": "2024-10-22T01:41:14.769574Z",
     "shell.execute_reply": "2024-10-22T01:41:14.768269Z",
     "shell.execute_reply.started": "2024-10-22T01:41:14.759295Z"
    },
    "trusted": true
   },
   "outputs": [],
   "source": [
    "# Set the image_id as the index in data_pd\n",
    "df_doulbe.set_index('ID_img', inplace=True)\n",
    "df_ppm.set_index('ID_img', inplace=True)"
   ]
  },
  {
   "cell_type": "code",
   "execution_count": 13,
   "metadata": {
    "execution": {
     "iopub.execute_input": "2024-10-22T01:41:14.774140Z",
     "iopub.status.busy": "2024-10-22T01:41:14.773301Z",
     "iopub.status.idle": "2024-10-22T01:41:23.754327Z",
     "shell.execute_reply": "2024-10-22T01:41:23.753057Z",
     "shell.execute_reply.started": "2024-10-22T01:41:14.774067Z"
    },
    "trusted": true
   },
   "outputs": [],
   "source": [
    "# Đường dẫn tới thư mục chứa dữ liệu\n",
    "data_dir = './Result/middles/'\n",
    "image_size = (224, 224)  # Kích thước ảnh (tuỳ chọn)\n",
    "\n",
    "# Đọc tất cả hình ảnh trong thư mục\n",
    "def load_images(data_dir, image_size):\n",
    "    images = []\n",
    "    labels = []\n",
    "    for category in os.listdir(data_dir):\n",
    "        path = os.path.join(data_dir, category)\n",
    "        \n",
    "        for img_name in os.listdir(path):\n",
    "            try:\n",
    "                img_path = os.path.join(path, img_name)\n",
    "                image = cv2.imread(img_path)\n",
    "                image = cv2.resize(image, image_size)\n",
    "                if category.__contains__(\"double\"):\n",
    "                    label = df_doulbe.loc[img_name,'ppm']  \n",
    "                else:\n",
    "                    label = df_ppm.loc[img_name,'ppm']\n",
    "                images.append(image)\n",
    "                labels.append(label)\n",
    "            except Exception as e:\n",
    "                print(f\"Error loading image {img_path}: {e}\")\n",
    "\n",
    "    return np.array(images), np.array(labels)\n",
    "\n",
    "# Load dataset\n",
    "images, labels = load_images(data_dir, image_size)\n",
    "\n",
    "# Chia dữ liệu thành tập huấn luyện và kiểm thử\n",
    "X_train, X_test, y_train, y_test = train_test_split(images, labels, test_size=0.4, random_state=42)"
   ]
  },
  {
   "cell_type": "markdown",
   "metadata": {},
   "source": [
    "# **Tiền xử lý dữ liệu**"
   ]
  },
  {
   "cell_type": "markdown",
   "metadata": {},
   "source": [
    "***Trích xuất đặc trưng màu sắc***"
   ]
  },
  {
   "cell_type": "code",
   "execution_count": 14,
   "metadata": {
    "execution": {
     "iopub.execute_input": "2024-10-22T01:41:23.756835Z",
     "iopub.status.busy": "2024-10-22T01:41:23.755993Z",
     "iopub.status.idle": "2024-10-22T01:41:30.917455Z",
     "shell.execute_reply": "2024-10-22T01:41:30.916293Z",
     "shell.execute_reply.started": "2024-10-22T01:41:23.756780Z"
    },
    "trusted": true
   },
   "outputs": [],
   "source": [
    "# Chuyển đổi không gian màu RGB, HSV, L*a*b*\n",
    "def extract_color_features(image):\n",
    "    rgb_mean = np.mean(image, axis=(0,1))  # Tính trung bình theo kênh màu RGB\n",
    "    hsv_image = cv2.cvtColor(image, cv2.COLOR_BGR2HSV)\n",
    "    hsv_mean = np.mean(hsv_image, axis=(0,1))  # Trung bình trong không gian HSV\n",
    "    lab_image = cv2.cvtColor(image, cv2.COLOR_BGR2LAB)\n",
    "    lab_mean = np.mean(lab_image, axis=(0,1))  # Trung bình trong không gian L*a*b*\n",
    "    \n",
    "    return np.concatenate([rgb_mean, hsv_mean, lab_mean])\n",
    "\n",
    "# Áp dụng trích xuất đặc trưng màu cho tất cả ảnh\n",
    "X_train_features = np.array([extract_color_features(img) for img in X_train])\n",
    "X_test_features = np.array([extract_color_features(img) for img in X_test])\n"
   ]
  },
  {
   "cell_type": "markdown",
   "metadata": {},
   "source": [
    "***Trích xuất đặc trưng kết cấu***"
   ]
  },
  {
   "cell_type": "code",
   "execution_count": 15,
   "metadata": {
    "execution": {
     "iopub.execute_input": "2024-10-22T01:41:30.919590Z",
     "iopub.status.busy": "2024-10-22T01:41:30.919068Z",
     "iopub.status.idle": "2024-10-22T01:49:34.356127Z",
     "shell.execute_reply": "2024-10-22T01:49:34.355096Z",
     "shell.execute_reply.started": "2024-10-22T01:41:30.919531Z"
    },
    "trusted": true
   },
   "outputs": [],
   "source": [
    "\n",
    "# Trích xuất LBP và HOG\n",
    "def extract_texture_features(image):\n",
    "    gray_image = cv2.cvtColor(image, cv2.COLOR_BGR2GRAY)\n",
    "    \n",
    "    # LBP\n",
    "    lbp = local_binary_pattern(gray_image, P=8, R=1, method='uniform')\n",
    "    lbp_hist, _ = np.histogram(lbp, bins=np.arange(0, 11), range=(0, 10), density=True)\n",
    "    \n",
    "    # HOG\n",
    "    hog_features, _ = hog(gray_image, orientations=9, pixels_per_cell=(8, 8),\n",
    "                          cells_per_block=(2, 2), visualize=True)\n",
    "    \n",
    "    return np.concatenate([lbp_hist, hog_features])\n",
    "\n",
    "# Áp dụng trích xuất đặc trưng kết cấu\n",
    "X_train_texture = np.array([extract_texture_features(img) for img in X_train])\n",
    "X_test_texture = np.array([extract_texture_features(img) for img in X_test])\n"
   ]
  },
  {
   "cell_type": "code",
   "execution_count": 16,
   "metadata": {
    "execution": {
     "iopub.execute_input": "2024-10-22T01:49:34.358306Z",
     "iopub.status.busy": "2024-10-22T01:49:34.357604Z",
     "iopub.status.idle": "2024-10-22T01:49:34.510873Z",
     "shell.execute_reply": "2024-10-22T01:49:34.509703Z",
     "shell.execute_reply.started": "2024-10-22T01:49:34.358240Z"
    },
    "trusted": true
   },
   "outputs": [],
   "source": [
    "\n",
    "# Kết hợp đặc trưng màu sắc và kết cấu\n",
    "X_train_combined = np.concatenate([X_train_features, X_train_texture], axis=1)\n",
    "X_test_combined = np.concatenate([X_test_features, X_test_texture], axis=1)\n"
   ]
  },
  {
   "cell_type": "code",
   "execution_count": null,
   "metadata": {
    "execution": {
     "iopub.execute_input": "2024-10-22T01:49:34.512709Z",
     "iopub.status.busy": "2024-10-22T01:49:34.512344Z",
     "iopub.status.idle": "2024-10-22T01:49:34.518449Z",
     "shell.execute_reply": "2024-10-22T01:49:34.517433Z",
     "shell.execute_reply.started": "2024-10-22T01:49:34.512671Z"
    },
    "trusted": true
   },
   "outputs": [],
   "source": [
    "print(X_train_combined.shape)\n",
    "print(X_test_combined.shape)"
   ]
  },
  {
   "cell_type": "markdown",
   "metadata": {},
   "source": [
    "# **Huấn luyện mô hình dự đoán**"
   ]
  },
  {
   "cell_type": "code",
   "execution_count": 18,
   "metadata": {
    "execution": {
     "iopub.execute_input": "2024-10-22T01:49:34.520066Z",
     "iopub.status.busy": "2024-10-22T01:49:34.519724Z",
     "iopub.status.idle": "2024-10-22T01:49:34.529855Z",
     "shell.execute_reply": "2024-10-22T01:49:34.528781Z",
     "shell.execute_reply.started": "2024-10-22T01:49:34.520030Z"
    },
    "trusted": true
   },
   "outputs": [],
   "source": [
    "# Linear Regression (cho bài toán hồi quy)\n",
    "pipeline_lr = Pipeline([\n",
    "    ('scaler', StandardScaler()),  # Chuẩn hóa dữ liệu\n",
    "    ('lr', LinearRegression())\n",
    "])\n",
    "\n",
    "param_grid_lr = {\n",
    "    'lr__fit_intercept': [True, False],\n",
    "}"
   ]
  },
  {
   "cell_type": "code",
   "execution_count": 19,
   "metadata": {
    "execution": {
     "iopub.execute_input": "2024-10-22T01:49:34.531487Z",
     "iopub.status.busy": "2024-10-22T01:49:34.531091Z",
     "iopub.status.idle": "2024-10-22T01:49:34.541367Z",
     "shell.execute_reply": "2024-10-22T01:49:34.540192Z",
     "shell.execute_reply.started": "2024-10-22T01:49:34.531438Z"
    },
    "trusted": true
   },
   "outputs": [],
   "source": [
    "# SVM (Support Vector Regressor) cho bài toán hồi quy\n",
    "pipeline_svr = Pipeline([\n",
    "    ('scaler', StandardScaler()),  # Chuẩn hóa dữ liệu\n",
    "    ('svr', SVR())\n",
    "])\n",
    "\n",
    "param_grid_svr = {\n",
    "    'svr__kernel': ['linear', 'rbf'],\n",
    "    'svr__C': [0.1, 1, 10],\n",
    "    'svr__gamma': ['scale', 'auto']\n",
    "}"
   ]
  },
  {
   "cell_type": "code",
   "execution_count": 20,
   "metadata": {
    "execution": {
     "iopub.execute_input": "2024-10-22T01:49:34.543461Z",
     "iopub.status.busy": "2024-10-22T01:49:34.542991Z",
     "iopub.status.idle": "2024-10-22T01:49:34.551140Z",
     "shell.execute_reply": "2024-10-22T01:49:34.550127Z",
     "shell.execute_reply.started": "2024-10-22T01:49:34.543411Z"
    },
    "trusted": true
   },
   "outputs": [],
   "source": [
    "# Random Forest Regressor (cho bài toán hồi quy)\n",
    "pipeline_rf = Pipeline([\n",
    "    ('scaler', StandardScaler()),  # Chuẩn hóa dữ liệu\n",
    "    ('rf', RandomForestRegressor())\n",
    "])\n",
    "\n",
    "param_grid_rf = {\n",
    "    'rf__n_estimators': [50, 100, 200],\n",
    "    'rf__max_depth': [None, 10, 20],\n",
    "    'rf__min_samples_split': [2, 5, 10]\n",
    "}"
   ]
  },
  {
   "cell_type": "code",
   "execution_count": null,
   "metadata": {
    "execution": {
     "iopub.execute_input": "2024-10-22T01:54:13.528680Z",
     "iopub.status.busy": "2024-10-22T01:54:13.528028Z"
    },
    "trusted": true
   },
   "outputs": [],
   "source": [
    "# GridSearchCV cho mỗi model\n",
    "grid_search_lr = GridSearchCV(pipeline_lr, param_grid_lr, cv=5, scoring='neg_mean_squared_error')\n",
    "grid_search_svr = GridSearchCV(pipeline_svr, param_grid_svr, cv=5, scoring='neg_mean_squared_error')\n",
    "grid_search_rf = GridSearchCV(pipeline_rf, param_grid_rf, cv=5, scoring='neg_mean_squared_error')\n",
    "\n",
    "# Huấn luyện từng mô hình\n",
    "print(\"Training Linear Regression...\")\n",
    "grid_search_lr.fit(X_train_combined, y_train)\n",
    "\n",
    "print(\"Training SVR...\")\n",
    "grid_search_svr.fit(X_train_combined, y_train)\n",
    "\n",
    "print(\"Training Random Forest Regressor...\")\n",
    "grid_search_rf.fit(X_train_combined, y_train)\n",
    "\n",
    "# In ra kết quả tốt nhất cho mỗi mô hình\n",
    "print(\"Best parameters for Linear Regression:\", grid_search_lr.best_params_)\n",
    "print(\"Best parameters for SVR:\", grid_search_svr.best_params_)\n",
    "print(\"Best parameters for Random Forest Regressor:\", grid_search_rf.best_params_)"
   ]
  },
  {
   "cell_type": "code",
   "execution_count": null,
   "metadata": {
    "trusted": true
   },
   "outputs": [],
   "source": [
    "# Lưu mô hình và trọng số tốt nhất của Linear Regression\n",
    "joblib.dump(grid_search_lr.best_estimator_, 'best_linear_regression_model.pkl')\n",
    "joblib.dump(grid_search_lr.best_params_, 'best_linear_regression_params.pkl')\n",
    "\n",
    "# Lưu mô hình và trọng số tốt nhất của SVR\n",
    "joblib.dump(grid_search_svr.best_estimator_, 'best_svr_model.pkl')\n",
    "joblib.dump(grid_search_svr.best_params_, 'best_svr_params.pkl')\n",
    "\n",
    "# Lưu mô hình và trọng số tốt nhất của Random Forest Regressor\n",
    "joblib.dump(grid_search_rf.best_estimator_, 'best_random_forest_model.pkl')\n",
    "joblib.dump(grid_search_rf.best_params_, 'best_random_forest_params.pkl')"
   ]
  },
  {
   "cell_type": "code",
   "execution_count": null,
   "metadata": {
    "trusted": true
   },
   "outputs": [],
   "source": [
    "# # Tải lại mô hình và thông số của Linear Regression\n",
    "# best_lr_model = joblib.load('best_linear_regression_model.pkl')\n",
    "# best_lr_params = joblib.load('best_linear_regression_params.pkl')\n",
    "\n",
    "# # Tải lại mô hình và thông số của SVR\n",
    "# best_svr_model = joblib.load('best_svr_model.pkl')\n",
    "# best_svr_params = joblib.load('best_svr_params.pkl')\n",
    "\n",
    "# # Tải lại mô hình và thông số của Random Forest\n",
    "# best_rf_model = joblib.load('best_random_forest_model.pkl')\n",
    "# best_rf_params = joblib.load('best_random_forest_params.pkl')\n",
    "\n",
    "# # In ra thông số tốt nhất\n",
    "# print(\"Best parameters for Linear Regression:\", best_lr_params)\n",
    "# print(\"Best parameters for SVR:\", best_svr_params)\n",
    "# print(\"Best parameters for Random Forest Regressor:\", best_rf_params)"
   ]
  },
  {
   "cell_type": "code",
   "execution_count": null,
   "metadata": {
    "trusted": true
   },
   "outputs": [],
   "source": [
    "# Đánh giá mô hình trên tập kiểm tra\n",
    "y_pred_lr = grid_search_lr.predict(X_test_combined)\n",
    "y_pred_svr = grid_search_svr.predict(X_test_combined)\n",
    "y_pred_rf = grid_search_rf.predict(X_test_combined)\n",
    "\n",
    "\n",
    "# Linear Regression, SVR, Random Forest Regressor (Mean Squared Error)\n",
    "mse_lr = mean_squared_error(y_test, y_pred_lr)\n",
    "mse_svr = mean_squared_error(y_test, y_pred_svr)\n",
    "mse_rf = mean_squared_error(y_test, y_pred_rf)\n",
    "\n",
    "r2_lr = r2_score(y_test, y_pred_lr)\n",
    "r2_svr = r2_score(y_test, y_pred_svr)\n",
    "r2_rf = r2_score(y_test, y_pred_rf)\n",
    "\n",
    "print(f\"Linear Regression MSE: {mse_lr}, LR R2: {r2_lr}\\n\")\n",
    "print(f\"SVR MSE: {mse_svr}, SVR R2: {r2_svr}\\n\")\n",
    "print(f\"Random Forest Regressor MSE: {mse_rf}, RF R2: {r2_rf}\\n\")\n"
   ]
  },
  {
   "cell_type": "code",
   "execution_count": null,
   "metadata": {
    "trusted": true
   },
   "outputs": [],
   "source": [
    "\n",
    "# Dữ liệu MSE và R^2\n",
    "models = ['Linear Regression','SVR', 'Random Forest Regressor']\n",
    "mse_values = [mse_lr, mse_svr, mse_rf]\n",
    "r2_values = [r2_lr, r2_svr, r2_rf]\n",
    "\n",
    "# Tạo biểu đồ MSE\n",
    "plt.figure(figsize=(14, 6))\n",
    "\n",
    "# MSE\n",
    "plt.subplot(1, 2, 1)\n",
    "plt.bar(models, mse_values, color=['blue', 'green', 'red'])\n",
    "plt.title('Mean Squared Error (MSE) of Models')\n",
    "plt.ylabel('MSE')\n",
    "plt.xticks(rotation=15)\n",
    "for i, v in enumerate(mse_values):\n",
    "    plt.text(i, v + 0.01, f\"{v:.4f}\", ha='center', fontsize=12)\n",
    "\n",
    "# R^2\n",
    "plt.subplot(1, 2, 2)\n",
    "plt.bar(models, r2_values, color=['blue', 'green', 'red'])\n",
    "plt.title('R^2 of Models')\n",
    "plt.ylabel('R^2')\n",
    "plt.xticks(rotation=15)\n",
    "for i, v in enumerate(r2_values):\n",
    "    plt.text(i, v + 0.01, f\"{v:.4f}\", ha='center', fontsize=12)\n",
    "\n",
    "# Hiển thị biểu đồ\n",
    "plt.tight_layout()\n",
    "plt.show()"
   ]
  }
 ],
 "metadata": {
  "kaggle": {
   "accelerator": "none",
   "dataSources": [
    {
     "datasetId": 5920100,
     "sourceId": 9684692,
     "sourceType": "datasetVersion"
    }
   ],
   "dockerImageVersionId": 30786,
   "isGpuEnabled": false,
   "isInternetEnabled": true,
   "language": "python",
   "sourceType": "notebook"
  },
  "kernelspec": {
   "display_name": "Python 3",
   "language": "python",
   "name": "python3"
  },
  "language_info": {
   "codemirror_mode": {
    "name": "ipython",
    "version": 3
   },
   "file_extension": ".py",
   "mimetype": "text/x-python",
   "name": "python",
   "nbconvert_exporter": "python",
   "pygments_lexer": "ipython3",
   "version": "3.8.10"
  }
 },
 "nbformat": 4,
 "nbformat_minor": 4
}
